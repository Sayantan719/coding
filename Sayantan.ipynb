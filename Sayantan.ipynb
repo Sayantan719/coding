{
 "cells": [
  {
   "cell_type": "markdown",
   "id": "53b34083-92ab-4a1d-9e1b-3531ce185f6f",
   "metadata": {},
   "source": [
    "1. Write a program in Python to find the addition & average of three float numbers?"
   ]
  },
  {
   "cell_type": "code",
   "execution_count": 1,
   "id": "964f8cc5-2d45-4c7e-8802-0ef218232760",
   "metadata": {},
   "outputs": [
    {
     "name": "stdin",
     "output_type": "stream",
     "text": [
      "1st no :  10\n",
      "2nd no :  20\n",
      "3rd no :  30\n"
     ]
    },
    {
     "name": "stdout",
     "output_type": "stream",
     "text": [
      "60.0\n",
      "30.0\n"
     ]
    }
   ],
   "source": [
    "Num1=float(input(\"1st no : \"))\n",
    "Num2=float(input(\"2nd no : \")) \n",
    "Num3=float(input(\"3rd no : \"))\n",
    "sum= Num1+Num2+Num3\n",
    "print(sum)\n",
    "Avg=(sum/2)\n",
    "print(Avg)"
   ]
  },
  {
   "cell_type": "markdown",
   "id": "29a5f284-8939-4e35-b25b-44ade6f89e78",
   "metadata": {},
   "source": [
    "2. Write a program in Python to find the volume of a sphere with radius 6cm?"
   ]
  },
  {
   "cell_type": "code",
   "execution_count": 3,
   "id": "b0ce0f5f-0357-40c9-91d5-a201689b759b",
   "metadata": {},
   "outputs": [
    {
     "name": "stdout",
     "output_type": "stream",
     "text": [
      "904.7786842338604\n"
     ]
    }
   ],
   "source": [
    "import math\n",
    "r = 6\n",
    "vol=(4*math.pi*(r**3))/3\n",
    "print(vol)\n"
   ]
  },
  {
   "cell_type": "markdown",
   "id": "a0df3923-2aae-4a42-b33f-fabd9fbb29cc",
   "metadata": {},
   "source": [
    "3. Write a program in Python to find the area of a circle?"
   ]
  },
  {
   "cell_type": "code",
   "execution_count": 71,
   "id": "920fbd8c-a877-4d26-b6ed-f99ff9019091",
   "metadata": {},
   "outputs": [
    {
     "name": "stdin",
     "output_type": "stream",
     "text": [
      "Radius :  5\n"
     ]
    },
    {
     "name": "stdout",
     "output_type": "stream",
     "text": [
      "78.53981633974483\n"
     ]
    }
   ],
   "source": [
    "import math\n",
    "r = float(input(\"Radius : \"))\n",
    "Area = math.pi*r**2\n",
    "print(Area)"
   ]
  },
  {
   "cell_type": "markdown",
   "id": "7039ee55-a383-4e9d-a14b-916e4f853a48",
   "metadata": {},
   "source": [
    "4. Write a program in Python to compute simple Interest?"
   ]
  },
  {
   "cell_type": "code",
   "execution_count": 69,
   "id": "9b3beea3-83a1-4ee2-bf99-ed8d2e63e00f",
   "metadata": {},
   "outputs": [
    {
     "name": "stdin",
     "output_type": "stream",
     "text": [
      "p :  50\n",
      "t :  20\n",
      "r :  75\n"
     ]
    },
    {
     "name": "stdout",
     "output_type": "stream",
     "text": [
      "750.0\n"
     ]
    }
   ],
   "source": [
    "p = float(input(\"p : \"))\n",
    "t = float(input(\"t : \"))\n",
    "r= float(input(\"r : \"))\n",
    "Interest=(p*t*r)/100\n",
    "print(Interest)"
   ]
  },
  {
   "cell_type": "markdown",
   "id": "b9f6c448-6cca-448e-ba68-ad8cecf774ba",
   "metadata": {},
   "source": [
    "5. Write a program in Python to swap two numbers without using third variable?"
   ]
  },
  {
   "cell_type": "code",
   "execution_count": 67,
   "id": "45ede424-371f-4015-b3c3-682e34311a68",
   "metadata": {},
   "outputs": [
    {
     "name": "stdin",
     "output_type": "stream",
     "text": [
      "a :  5\n",
      "b :  8\n"
     ]
    },
    {
     "name": "stdout",
     "output_type": "stream",
     "text": [
      "a =  8.0 \n",
      "b =  5.0\n"
     ]
    }
   ],
   "source": [
    "a = float(input(\"a : \"))\n",
    "b = float(input(\"b : \"))\n",
    "a= a + b\n",
    "b= a - b\n",
    "a= a - b\n",
    "print(\"a = \",a,\"\\n\"\"b = \",b)"
   ]
  },
  {
   "cell_type": "markdown",
   "id": "c4cd0a57-905d-486d-9464-a13fdc6dec98",
   "metadata": {},
   "source": [
    "6. Write a program in Python to convert any temperature from Celcius to Fahrenheit?"
   ]
  },
  {
   "cell_type": "code",
   "execution_count": 65,
   "id": "2c3c58af-e9dc-4b42-a7bb-b044d3ec1f1a",
   "metadata": {},
   "outputs": [
    {
     "name": "stdin",
     "output_type": "stream",
     "text": [
      "C :  50\n"
     ]
    },
    {
     "name": "stdout",
     "output_type": "stream",
     "text": [
      "F =  122.0\n"
     ]
    }
   ],
   "source": [
    "C=float(input(\"C : \"))\n",
    "F=(C*(9/5))+32\n",
    "print(\"F = \",F)"
   ]
  },
  {
   "cell_type": "markdown",
   "id": "4faf6cd5-ca4f-4117-bc82-127b3500c6e0",
   "metadata": {},
   "source": [
    "7. Write a program in Python to convert a given number of days into days, month, year and week?"
   ]
  },
  {
   "cell_type": "code",
   "execution_count": 23,
   "id": "5687c23e-3be9-4ccf-9af4-859984f00408",
   "metadata": {},
   "outputs": [
    {
     "name": "stdin",
     "output_type": "stream",
     "text": [
      "Enter number of days: 10\n"
     ]
    },
    {
     "name": "stdout",
     "output_type": "stream",
     "text": [
      "Number of year:0\n",
      "Month:0\n",
      "Week:1\n",
      "Days:3\n"
     ]
    }
   ],
   "source": [
    "d=int(input(\"Enter number of days:\"))\n",
    "\n",
    "temp=d%365\n",
    "year=d//365\n",
    "temp1=temp%30\n",
    "month=temp//30\n",
    "days=temp1%7\n",
    "week=temp1//7\n",
    "\n",
    "print(f\"Number of year:{year}\\nMonth:{month}\\nWeek:{week}\\nDays:{days}\")"
   ]
  },
  {
   "cell_type": "markdown",
   "id": "f7fc2cff-5955-4cab-be14-d04d25141d26",
   "metadata": {},
   "source": [
    "8. Write a Python Program to find the gravitational force acting between two objects.\r\n",
    "\r\n",
    "[G=N*(m1*m2)/d^2]"
   ]
  },
  {
   "cell_type": "code",
   "execution_count": 63,
   "id": "4d30f458-4811-4324-a55f-e3fbb34bddaf",
   "metadata": {},
   "outputs": [
    {
     "name": "stdin",
     "output_type": "stream",
     "text": [
      "Enter distance  between two object in meters: 5\n",
      "Enter first object weight in Kg: 20\n",
      "Enter second object weight in Kg: 50\n"
     ]
    },
    {
     "name": "stdout",
     "output_type": "stream",
     "text": [
      "Gravitational force between two object is 26696000000000.0\n"
     ]
    }
   ],
   "source": [
    "d=float(input(\"Enter distance  between two object in meters:\"))\n",
    "m1=float(input(\"Enter first object weight in Kg:\"))\n",
    "m2=float(input(\"Enter second object weight in Kg:\"))\n",
    "\n",
    "G=6.674*10**11\n",
    "\n",
    "F=G*(m1*m2)/d**2\n",
    "print(f\"Gravitational force between two object is {F}\")"
   ]
  },
  {
   "cell_type": "markdown",
   "id": "792e230d-98f7-4821-878c-41c1843f4342",
   "metadata": {},
   "source": [
    "9. Write a program in Python to find given no is Even or Odd?"
   ]
  },
  {
   "cell_type": "code",
   "execution_count": 61,
   "id": "dce95071-8c43-40e6-b7dd-57f20c3bdb29",
   "metadata": {},
   "outputs": [
    {
     "name": "stdin",
     "output_type": "stream",
     "text": [
      "Enter a number: 5\n"
     ]
    },
    {
     "name": "stdout",
     "output_type": "stream",
     "text": [
      "The given number 5.0 is odd\n"
     ]
    }
   ],
   "source": [
    "n=float(input(\"Enter a number:\"))\n",
    "\n",
    "if n%2==0:\n",
    "    print(f\"The given number {n} is even\")\n",
    "else:\n",
    "    print(f\"The given number {n} is odd\")\n"
   ]
  },
  {
   "cell_type": "markdown",
   "id": "7f550b0b-c0ab-42ad-86c4-8bc760a4e65b",
   "metadata": {},
   "source": [
    "10. Take input from user if it is greater than 15 print two times of difference if it’s less than 15 print four times of difference?"
   ]
  },
  {
   "cell_type": "code",
   "execution_count": 43,
   "id": "e2965644-cddf-4acc-892d-5fb7f4879908",
   "metadata": {},
   "outputs": [
    {
     "name": "stdin",
     "output_type": "stream",
     "text": [
      "Enter a number:  10\n"
     ]
    },
    {
     "name": "stdout",
     "output_type": "stream",
     "text": [
      "The number is less than 15. Four times the difference is: 20\n"
     ]
    }
   ],
   "source": [
    "def calculate_difference(number):\n",
    "    difference = abs(number - 15)\n",
    "    \n",
    "    if number > 15:\n",
    "        result = 2 * difference\n",
    "        print(f\"The number is greater than 15. Two times the difference is: {result}\")\n",
    "    else:\n",
    "        result = 4 * difference\n",
    "        print(f\"The number is less than 15. Four times the difference is: {result}\")\n",
    "number = int(input(\"Enter a number: \"))\n",
    "calculate_difference(number)\n"
   ]
  },
  {
   "cell_type": "markdown",
   "id": "54b275f8-546d-4ab6-a52c-d123cb4c6e95",
   "metadata": {},
   "source": [
    "11. Write a program in Python to find largest among three numbers?"
   ]
  },
  {
   "cell_type": "code",
   "execution_count": 51,
   "id": "f787ab1e-b8fd-4fd4-a930-8c30948976b6",
   "metadata": {},
   "outputs": [
    {
     "name": "stdin",
     "output_type": "stream",
     "text": [
      "Enter  number 1:  5\n",
      "Enter  number 2:  2\n",
      "Enter  number 3:  10\n"
     ]
    },
    {
     "name": "stdout",
     "output_type": "stream",
     "text": [
      "10.0 is largest among of three number\n"
     ]
    }
   ],
   "source": [
    "n1= float(input(\"Enter  number 1: \"))\n",
    "n2= float(input(\"Enter  number 2: \"))\n",
    "n3= float(input(\"Enter  number 3: \"))\n",
    "\n",
    "if (n1>n2 and n1>n3):\n",
    "    print(f\"{n1} is largest among of three number\")\n",
    "elif (n2>n1 and n2>n3):\n",
    "    print(f\"{n2} is largest among of three number\")\n",
    "else:\n",
    "    print(f\"{n3} is largest among of three number\")\n"
   ]
  },
  {
   "cell_type": "markdown",
   "id": "54bd76c4-d99c-4089-baaf-ee3d2a105021",
   "metadata": {},
   "source": [
    "12. Write a program in Python to check a triangle is equilateral,scalene or isosclees?"
   ]
  },
  {
   "cell_type": "code",
   "execution_count": 55,
   "id": "3430088e-de7e-4057-aeaa-cdcb3e4c7413",
   "metadata": {},
   "outputs": [
    {
     "name": "stdin",
     "output_type": "stream",
     "text": [
      "Enter the first side:  4\n",
      "Enter the second side:  5\n",
      "Enter the third side:  6\n"
     ]
    },
    {
     "name": "stdout",
     "output_type": "stream",
     "text": [
      "The triangle is Scalene.\n"
     ]
    }
   ],
   "source": [
    "def check_triangle_type(a, b, c):\n",
    "    if a == b == c:\n",
    "        print(\"The triangle is Equilateral.\")\n",
    "    elif a == b or b == c or a == c:\n",
    "        print(\"The triangle is Isosceles.\")\n",
    "    else:\n",
    "        print(\"The triangle is Scalene.\")\n",
    "a = float(input(\"Enter the first side: \"))\n",
    "b = float(input(\"Enter the second side: \"))\n",
    "c = float(input(\"Enter the third side: \"))\n",
    "check_triangle_type(a, b, c)"
   ]
  },
  {
   "cell_type": "markdown",
   "id": "c7620e01-dfa6-4a9c-8792-89534e985a64",
   "metadata": {},
   "source": [
    "13.\tWrite a program in Python to check a given year is leapyear or not?"
   ]
  },
  {
   "cell_type": "code",
   "execution_count": 1,
   "id": "54e6ec88-71bb-4f55-8511-4512d068ccc0",
   "metadata": {},
   "outputs": [
    {
     "name": "stdin",
     "output_type": "stream",
     "text": [
      "Enter a year:  2000\n"
     ]
    },
    {
     "name": "stdout",
     "output_type": "stream",
     "text": [
      "2000 is a leap year.\n"
     ]
    }
   ],
   "source": [
    "def is_leap_year(year):\n",
    "    if (year % 4 == 0):\n",
    "        if (year % 100 == 0):\n",
    "            if (year % 400 == 0):\n",
    "                return True\n",
    "            else:\n",
    "                return False\n",
    "        else:\n",
    "            return True\n",
    "    else:\n",
    "        return False\n",
    "year = int(input(\"Enter a year: \"))\n",
    "if is_leap_year(year):\n",
    "    print(f\"{year} is a leap year.\")\n",
    "else:\n",
    "    print(f\"{year} is not a leap year.\")\n"
   ]
  },
  {
   "cell_type": "markdown",
   "id": "ddc9e1a8-6b68-4417-a65b-f2c7d3578b20",
   "metadata": {},
   "source": [
    "14.\tTake marks of a student of four different subject find average depending on average find Grade(if marks >=75 i.e,’A’ or >=60 but <=75 i.e,’B’ or >=40 but <=60 i.e,’C’ or <=40 i.e,’D’)."
   ]
  },
  {
   "cell_type": "code",
   "execution_count": 3,
   "id": "273821bc-684f-4c12-aa5e-eb5431ac7a67",
   "metadata": {},
   "outputs": [
    {
     "name": "stdin",
     "output_type": "stream",
     "text": [
      "Enter the marks  first subject:  50\n",
      "Enter the marks second subject:  48\n",
      "Enter the marks third subject:  30\n",
      "Enter the marks fourth subject:  25\n"
     ]
    },
    {
     "name": "stdout",
     "output_type": "stream",
     "text": [
      "The average marks are: 38.25\n",
      "The grade is: D\n"
     ]
    }
   ],
   "source": [
    "m1 = float(input(\"Enter the marks  first subject: \"))\n",
    "m2 = float(input(\"Enter the marks second subject: \"))\n",
    "m3 = float(input(\"Enter the marks third subject: \"))\n",
    "m4 = float(input(\"Enter the marks fourth subject: \"))\n",
    "\n",
    "avg = (m1 + m2 + m3 + m4) / 4\n",
    "\n",
    "if avg >= 75:\n",
    "    grade = 'A'\n",
    "elif avg >= 60:\n",
    "    grade = 'B'\n",
    "elif avg >= 40:\n",
    "    grade = 'C'\n",
    "else:\n",
    "    grade = 'D'\n",
    "print(f\"The average marks are: {avg}\")\n",
    "print(f\"The grade is: {grade}\")\n"
   ]
  },
  {
   "cell_type": "markdown",
   "id": "230b668b-6b21-470b-b32e-2cf887de5ca7",
   "metadata": {},
   "source": [
    "15.\tWrite a program in Python to implement a simple calculator?e is: {grade}\")\r\n"
   ]
  },
  {
   "cell_type": "code",
   "execution_count": 53,
   "id": "d313eff4-5f55-4e31-bfc7-c6fa84a5f241",
   "metadata": {},
   "outputs": [
    {
     "name": "stdout",
     "output_type": "stream",
     "text": [
      "Select operation:\n",
      "1. Add\n",
      "2. Subtract\n",
      "3. Multiply\n",
      "4. Divide\n"
     ]
    },
    {
     "name": "stdin",
     "output_type": "stream",
     "text": [
      "Enter choice (1/2/3/4):  1\n",
      "Enter first number:  1\n",
      "Enter second number:  2\n"
     ]
    },
    {
     "name": "stdout",
     "output_type": "stream",
     "text": [
      "1.0 + 2.0 = 3.0\n"
     ]
    }
   ],
   "source": [
    "def add(x, y):\n",
    "    return x + y\n",
    "\n",
    "def subtract(x, y):\n",
    "    return x - y\n",
    "\n",
    "def multiply(x, y):\n",
    "    return x * y\n",
    "\n",
    "def divide(x, y):\n",
    "    if y != 0:\n",
    "        return x / y\n",
    "    else:\n",
    "        return \"Error! Division by zero.\"\n",
    "\n",
    "def calculator():\n",
    "    print(\"Select operation:\")\n",
    "    print(\"1. Add\")\n",
    "    print(\"2. Subtract\")\n",
    "    print(\"3. Multiply\")\n",
    "    print(\"4. Divide\")\n",
    "    choice = input(\"Enter choice (1/2/3/4): \")\n",
    "\n",
    "    if choice in ['1', '2', '3', '4']:\n",
    "        num1 = float(input(\"Enter first number: \"))\n",
    "        num2 = float(input(\"Enter second number: \"))\n",
    "\n",
    "        if choice == '1':\n",
    "            print(f\"{num1} + {num2} = {add(num1, num2)}\")\n",
    "\n",
    "        elif choice == '2':\n",
    "            print(f\"{num1} - {num2} = {subtract(num1, num2)}\")\n",
    "\n",
    "        elif choice == '3':\n",
    "            print(f\"{num1} * {num2} = {multiply(num1, num2)}\")\n",
    "\n",
    "        elif choice == '4':\n",
    "            result = divide(num1, num2)\n",
    "            print(f\"{num1} / {num2} = {result}\")\n",
    "    else:\n",
    "        print(\"Invalid input\")\n",
    "calculator()\n"
   ]
  },
  {
   "cell_type": "markdown",
   "id": "1bb4d68f-5402-4045-9ee9-7bd58abb36de",
   "metadata": {},
   "source": [
    "16.\tWrite a program in Python to find the roots of Quadratic equation?"
   ]
  },
  {
   "cell_type": "code",
   "execution_count": 7,
   "id": "8715b3b4-8c8d-4835-bebc-65ef6ca7edb7",
   "metadata": {},
   "outputs": [
    {
     "name": "stdin",
     "output_type": "stream",
     "text": [
      "Enter the coefficient a:  50\n",
      "Enter the coefficient b:  85\n",
      "Enter the coefficient c:  20\n"
     ]
    },
    {
     "name": "stdout",
     "output_type": "stream",
     "text": [
      "The roots of the quadratic equation are: (-0.28210916541997266+0j) and (-1.4178908345800272+0j)\n"
     ]
    }
   ],
   "source": [
    "import cmath\n",
    "\n",
    "a = float(input(\"Enter the coefficient a: \"))\n",
    "b = float(input(\"Enter the coefficient b: \"))\n",
    "c = float(input(\"Enter the coefficient c: \"))\n",
    "\n",
    "d = b**2 - 4*a*c\n",
    "\n",
    "r1 = (-b + cmath.sqrt(d)) / (2*a)\n",
    "r2 = (-b - cmath.sqrt(d)) / (2*a)\n",
    "\n",
    "print(f\"The roots of the quadratic equation are: {r1} and {r2}\")"
   ]
  },
  {
   "cell_type": "markdown",
   "id": "218143a9-2e74-4f5e-9883-65637c65fc92",
   "metadata": {},
   "source": [
    "17.\tWrite a program in Python to print 1 to n."
   ]
  },
  {
   "cell_type": "code",
   "execution_count": 9,
   "id": "cd2d9187-72fe-454c-ace0-da90d5590015",
   "metadata": {},
   "outputs": [
    {
     "name": "stdin",
     "output_type": "stream",
     "text": [
      "Enter a number n:  12\n"
     ]
    },
    {
     "name": "stdout",
     "output_type": "stream",
     "text": [
      "1 2 3 4 5 6 7 8 9 10 11 12 "
     ]
    }
   ],
   "source": [
    "\n",
    "def print_numbers(n):\n",
    "    for i in range(1, n + 1):\n",
    "        print(i, end=\" \")\n",
    "n = int(input(\"Enter a number n: \"))\n",
    "print_numbers(n)\n"
   ]
  },
  {
   "cell_type": "markdown",
   "id": "9c985f55-22eb-4781-bcc0-c82f8e867548",
   "metadata": {},
   "source": [
    "18.\tWrite a program in Python to print sum of natural number."
   ]
  },
  {
   "cell_type": "code",
   "execution_count": 11,
   "id": "dd58e897-a5a6-4715-8f6f-e993fea92aa7",
   "metadata": {},
   "outputs": [
    {
     "name": "stdin",
     "output_type": "stream",
     "text": [
      "Enter a natural number n:  5\n"
     ]
    },
    {
     "name": "stdout",
     "output_type": "stream",
     "text": [
      "The sum of the first 5 natural numbers is: 15\n"
     ]
    }
   ],
   "source": [
    "n = int(input(\"Enter a natural number n: \"))\n",
    "sum_n = 0\n",
    "for i in range(1, n + 1):\n",
    "    sum_n += i\n",
    "print(f\"The sum of the first {n} natural numbers is: {sum_n}\")"
   ]
  },
  {
   "cell_type": "markdown",
   "id": "f6979af3-1bfd-41fc-bf18-0374718ec0ea",
   "metadata": {},
   "source": [
    "19.\tWrite a program in Python to print Sum of Digit."
   ]
  },
  {
   "cell_type": "code",
   "execution_count": 13,
   "id": "d8d60d49-86aa-4eb2-8607-f21607abf6a1",
   "metadata": {},
   "outputs": [
    {
     "name": "stdin",
     "output_type": "stream",
     "text": [
      "Enter a number:  5\n"
     ]
    },
    {
     "name": "stdout",
     "output_type": "stream",
     "text": [
      "The sum of the digits is: 5\n"
     ]
    }
   ],
   "source": [
    "number = int(input(\"Enter a number: \"))\n",
    "sum_of_digits = 0\n",
    "while number > 0:\n",
    "    digit = number % 10  \n",
    "    sum_of_digits += digit \n",
    "    number = number // 10  \n",
    "print(f\"The sum of the digits is: {sum_of_digits}\")"
   ]
  },
  {
   "cell_type": "markdown",
   "id": "6a20cf99-b05d-4ea7-8d3a-7e0f0d47c8ba",
   "metadata": {},
   "source": [
    "20.\tWrite a program in Python to print Factors of a Number?"
   ]
  },
  {
   "cell_type": "code",
   "execution_count": 15,
   "id": "54058157-ad49-4288-a97a-7ae0e4dafdc3",
   "metadata": {},
   "outputs": [
    {
     "name": "stdin",
     "output_type": "stream",
     "text": [
      "Enter a number:  20\n"
     ]
    },
    {
     "name": "stdout",
     "output_type": "stream",
     "text": [
      "The factors of 20 are:\n",
      "1\n",
      "2\n",
      "4\n",
      "5\n",
      "10\n",
      "20\n"
     ]
    }
   ],
   "source": [
    "\n",
    "number = int(input(\"Enter a number: \"))\n",
    "print(f\"The factors of {number} are:\")\n",
    "for i in range(1, number + 1):\n",
    "    if number % i == 0:\n",
    "        print(i)\n"
   ]
  },
  {
   "cell_type": "markdown",
   "id": "d925176f-dd30-4dba-abd7-af3564a1af36",
   "metadata": {},
   "source": [
    "21.\tWrite a program in Python to print Reverse of a Number."
   ]
  },
  {
   "cell_type": "code",
   "execution_count": 17,
   "id": "6ec0a2b9-ea78-4ce6-b86b-a6857fe69153",
   "metadata": {},
   "outputs": [
    {
     "name": "stdin",
     "output_type": "stream",
     "text": [
      "Enter a number:  56\n"
     ]
    },
    {
     "name": "stdout",
     "output_type": "stream",
     "text": [
      "The reverse of the number is: 65\n"
     ]
    }
   ],
   "source": [
    "\n",
    "number = int(input(\"Enter a number: \"))\n",
    "reversed_number = 0\n",
    "while number > 0:\n",
    "    digit = number % 10  \n",
    "    reversed_number = reversed_number * 10 + digit  \n",
    "    number = number // 10  \n",
    "print(f\"The reverse of the number is: {reversed_number}\")\n"
   ]
  },
  {
   "cell_type": "markdown",
   "id": "219848b1-522c-4b9a-8037-f4d9bfb1d95d",
   "metadata": {},
   "source": [
    "22.\tWrite a Python program to find Factorial of a given number."
   ]
  },
  {
   "cell_type": "code",
   "execution_count": 19,
   "id": "b05bd6af-55dd-444e-8c31-2845acb5010a",
   "metadata": {},
   "outputs": [
    {
     "name": "stdin",
     "output_type": "stream",
     "text": [
      "Enter a number:  20\n"
     ]
    },
    {
     "name": "stdout",
     "output_type": "stream",
     "text": [
      "The factorial of 20 is: 2432902008176640000\n"
     ]
    }
   ],
   "source": [
    "number = int(input(\"Enter a number: \"))\n",
    "factorial = 1\n",
    "if number < 0:\n",
    "    print(\"Factorial is not defined for negative numbers.\")\n",
    "elif number == 0:\n",
    "    print(\"The factorial of 0 is 1.\")\n",
    "else:\n",
    "    for i in range(1, number + 1):\n",
    "        factorial *= i  \n",
    "    print(f\"The factorial of {number} is: {factorial}\")"
   ]
  },
  {
   "cell_type": "markdown",
   "id": "be7836d3-23eb-46f3-b391-d21a88c67061",
   "metadata": {},
   "source": [
    "23.\tWrite a Python program to check a number is palindrome or not."
   ]
  },
  {
   "cell_type": "code",
   "execution_count": 21,
   "id": "9f007698-04e3-4e45-914f-2edc66e02169",
   "metadata": {},
   "outputs": [
    {
     "name": "stdin",
     "output_type": "stream",
     "text": [
      "Enter a number:  50\n"
     ]
    },
    {
     "name": "stdout",
     "output_type": "stream",
     "text": [
      "50 is not a palindrome.\n"
     ]
    }
   ],
   "source": [
    "\n",
    "number = int(input(\"Enter a number: \"))\n",
    "number_str = str(number)\n",
    "if number_str == number_str[::-1]:\n",
    "    print(f\"{number} is a palindrome.\")\n",
    "else:\n",
    "    print(f\"{number} is not a palindrome.\")\n"
   ]
  },
  {
   "cell_type": "markdown",
   "id": "5f110021-17a9-42d6-9140-8af6a7639347",
   "metadata": {},
   "source": [
    "24.\tWrite a Python program to check a number is prime or not."
   ]
  },
  {
   "cell_type": "code",
   "execution_count": 51,
   "id": "a20ab312-8179-4453-8ad1-4d599d79fe1b",
   "metadata": {},
   "outputs": [
    {
     "name": "stdin",
     "output_type": "stream",
     "text": [
      "Enter a number:  5\n"
     ]
    },
    {
     "name": "stdout",
     "output_type": "stream",
     "text": [
      "5 is a prime number.\n"
     ]
    }
   ],
   "source": [
    "\n",
    "number = int(input(\"Enter a number: \"))\n",
    "if number <= 1:\n",
    "    print(f\"{number} is not a prime number.\")\n",
    "elif number == 2:\n",
    "    print(f\"{number} is a prime number.\")\n",
    "else:\n",
    "    is_prime = True\n",
    "    for i in range(2, int(number ** 0.5) + 1):\n",
    "        if number % i == 0:\n",
    "            is_prime = False\n",
    "            break\n",
    "    if is_prime:\n",
    "        print(f\"{number} is a prime number.\")\n",
    "    else:\n",
    "        print(f\"{number} is not a prime number.\")\n"
   ]
  },
  {
   "cell_type": "markdown",
   "id": "7f6ea165-eccb-49c6-be5b-6edd7d685df1",
   "metadata": {},
   "source": [
    "25.\tWrite a Python program to check a number is Armstrong or not."
   ]
  },
  {
   "cell_type": "markdown",
   "id": "89037f12-6540-46bb-b1de-87b21d78eeaf",
   "metadata": {},
   "source": [
    "\n",
    "number = int(input(\"Enter a number: \"))\n",
    "number_str = str(number)\n",
    "num_digits = len(number_str)\n",
    "sum_of_powers = sum(int(digit) ** num_digits for digit in number_str)\n",
    "if sum_of_powers == number:\n",
    "    print(f\"{number} is an Armstrong number.\")\n",
    "else:\n",
    "    print(f\"{number} is not an Armstrong number.\")\n"
   ]
  },
  {
   "cell_type": "markdown",
   "id": "6807837e-924d-478f-ad0c-155b3fcbcc63",
   "metadata": {},
   "source": [
    "26.\tWrite a Python program to print Fibonacci series of n term=a+i"
   ]
  },
  {
   "cell_type": "code",
   "execution_count": 29,
   "id": "daffb8f7-9976-40de-9785-5f32f2c36ae9",
   "metadata": {},
   "outputs": [
    {
     "name": "stdin",
     "output_type": "stream",
     "text": [
      "Enter a range: 5\n"
     ]
    },
    {
     "name": "stdout",
     "output_type": "stream",
     "text": [
      "0 1 3 6 10 "
     ]
    }
   ],
   "source": [
    " n=int(input(\"Enter a range:\"))\n",
    "a=0 \n",
    "for i in range(1,n+1):\n",
    "    print(a,end=' ')\n",
    "    a=a+i"
   ]
  },
  {
   "cell_type": "markdown",
   "id": "1387bdb0-ecd2-4587-9077-aead20bc45cf",
   "metadata": {},
   "source": [
    "27.\tWrite a Python program to implement multiplication table."
   ]
  },
  {
   "cell_type": "code",
   "execution_count": 33,
   "id": "273c16c1-3194-47fc-9b2a-336b3528ca03",
   "metadata": {},
   "outputs": [
    {
     "name": "stdin",
     "output_type": "stream",
     "text": [
      "Enter a number for the multiplication table:  5\n"
     ]
    },
    {
     "name": "stdout",
     "output_type": "stream",
     "text": [
      "Multiplication table for 5 up to 10:\n",
      "5 x 1 = 5\n",
      "5 x 2 = 10\n",
      "5 x 3 = 15\n",
      "5 x 4 = 20\n",
      "5 x 5 = 25\n",
      "5 x 6 = 30\n",
      "5 x 7 = 35\n",
      "5 x 8 = 40\n",
      "5 x 9 = 45\n",
      "5 x 10 = 50\n"
     ]
    }
   ],
   "source": [
    "\n",
    "number = int(input(\"Enter a number for the multiplication table: \"))\n",
    "print(f\"Multiplication table for {number} up to {limit}:\")\n",
    "for i in range(1, limit + 1):\n",
    "    print(f\"{number} x {i} = {number * i}\")\n"
   ]
  },
  {
   "cell_type": "markdown",
   "id": "95570b90-2831-460d-9a2a-75d7cdc625a5",
   "metadata": {},
   "source": [
    "28.\tWrite a Python program to take a input from user in a list and print it."
   ]
  },
  {
   "cell_type": "code",
   "execution_count": 35,
   "id": "8fa95b94-9c1a-4441-ad02-1022cfacda65",
   "metadata": {},
   "outputs": [
    {
     "name": "stdin",
     "output_type": "stream",
     "text": [
      "Enter elements of the list separated by spaces:  3\n"
     ]
    },
    {
     "name": "stdout",
     "output_type": "stream",
     "text": [
      "The list of elements is: ['3']\n"
     ]
    }
   ],
   "source": [
    "input_list = input(\"Enter elements of the list separated by spaces: \")\n",
    "elements = input_list.split()\n",
    "print(\"The list of elements is:\", elements)"
   ]
  },
  {
   "cell_type": "markdown",
   "id": "5a7d035b-28af-437c-9e23-9c4c07e37ed2",
   "metadata": {},
   "source": [
    "29.\tWrite a Python program to find the average of n numbers using list."
   ]
  },
  {
   "cell_type": "code",
   "execution_count": 37,
   "id": "5021c5fc-ac80-4339-81ca-098a431717e6",
   "metadata": {},
   "outputs": [
    {
     "name": "stdin",
     "output_type": "stream",
     "text": [
      "Enter the number of elements:  5\n",
      "Enter number 1:  1\n",
      "Enter number 2:  5\n",
      "Enter number 3:  5\n",
      "Enter number 4:  4\n",
      "Enter number 5:  3\n"
     ]
    },
    {
     "name": "stdout",
     "output_type": "stream",
     "text": [
      "The average of the numbers is: 3.6\n"
     ]
    }
   ],
   "source": [
    "\n",
    "n = int(input(\"Enter the number of elements: \"))\n",
    "numbers = []\n",
    "for i in range(n):\n",
    "    num = float(input(f\"Enter number {i + 1}: \"))\n",
    "    numbers.append(num)\n",
    "total_sum = sum(numbers)\n",
    "average = total_sum / n\n",
    "print(f\"The average of the numbers is: {average}\")\n"
   ]
  },
  {
   "cell_type": "markdown",
   "id": "1e0afadd-2465-45f5-b359-6c9cdabc7f50",
   "metadata": {},
   "source": [
    "30.\tWrite a Python program to find the largest element in the list."
   ]
  },
  {
   "cell_type": "code",
   "execution_count": 39,
   "id": "8a737ec2-280b-4e5a-a4f7-9712fb5fa754",
   "metadata": {},
   "outputs": [
    {
     "name": "stdin",
     "output_type": "stream",
     "text": [
      "Enter numbers separated by spaces:  5\n"
     ]
    },
    {
     "name": "stdout",
     "output_type": "stream",
     "text": [
      "The largest element in the list is: 5.0\n"
     ]
    }
   ],
   "source": [
    "\n",
    "input_list = input(\"Enter numbers separated by spaces: \")\n",
    "numbers = [float(num) for num in input_list.split()]\n",
    "if numbers:\n",
    "    largest = numbers[0]\n",
    "    for num in numbers:\n",
    "        if num > largest:\n",
    "            largest = num\n",
    "    print(f\"The largest element in the list is: {largest}\")\n",
    "else:\n",
    "    print(\"The list is empty.\")\n"
   ]
  },
  {
   "cell_type": "markdown",
   "id": "44a0560b-753e-4795-a843-3e4192674769",
   "metadata": {},
   "source": [
    "31.\tWrite a Python program to perform Linear search."
   ]
  },
  {
   "cell_type": "code",
   "execution_count": 43,
   "id": "caebf7c3-b4b6-45bb-bc02-c92402d28067",
   "metadata": {},
   "outputs": [
    {
     "name": "stdin",
     "output_type": "stream",
     "text": [
      "Enter the number of elements in the list:  5\n",
      "Enter an element:  1\n",
      "Enter an element:  2\n",
      "Enter an element:  3\n",
      "Enter an element:  4\n",
      "Enter an element:  5\n",
      "Enter the target element 3\n"
     ]
    },
    {
     "name": "stdout",
     "output_type": "stream",
     "text": [
      "Element found at index 2\n"
     ]
    }
   ],
   "source": [
    "n = int(input(\"Enter the number of elements in the list: \"))\n",
    "\n",
    "arr= []\n",
    "for i in range(n):\n",
    "    en =float(input(\"Enter an element: \"))\n",
    "    arr.append(en)\n",
    "    \n",
    "index = -1\n",
    "target=float(input(\"Enter the target element\"))\n",
    "\n",
    "for i in range(len(arr)):\n",
    "    if arr[i] == target:\n",
    "        index = i\n",
    "        break\n",
    "\n",
    "if index != -1:\n",
    "    print(f\"Element found at index {index}\")\n",
    "else:\n",
    "    print(\"Element not found\")\n"
   ]
  },
  {
   "cell_type": "markdown",
   "id": "9407a399-212c-4af8-88a8-3b77e554e4fa",
   "metadata": {},
   "source": [
    "32.\tWrite a program that accepts sequence of lines as input and prints the lines after making all characters in the sentence capitalized.\r\n",
    "Suppose the following input is supplied to the program:\r\n",
    "Hello world\r\n",
    "Practice makes perfect\r\n",
    "Then, the output should be:\r\n",
    "HELLO WORLD\r\n",
    "PRACTICE MAKES PERFECT\r\n"
   ]
  },
  {
   "cell_type": "code",
   "execution_count": 45,
   "id": "abd8382b-b874-481e-8594-ac1fcd2e8a64",
   "metadata": {},
   "outputs": [
    {
     "name": "stdout",
     "output_type": "stream",
     "text": [
      "HELLO WORLD\n",
      "PRACTICE MAKES PERFECT\n"
     ]
    }
   ],
   "source": [
    "lines = [\"Hello world\",\"Practice makes perfect\"]\n",
    "\n",
    "for i in lines:\n",
    "    print(i.upper())"
   ]
  },
  {
   "cell_type": "markdown",
   "id": "b0bf3ca8-cb4f-4821-a159-d1c79aa8da25",
   "metadata": {},
   "source": [
    "33.\tWrite a program which accepts a sequence of comma‐separated numbers from console and generate a list and a tuple which contains every number.\r\n",
    "Suppose the following input is supplied to the program:\r\n",
    "34,67,55,33,12,98\r\n",
    "Then, the output should be:\r\n",
    "['34', '67', '55', '33', '12', '98']\r\n",
    "('34', '67', '55', '33', '12', '98') \r\n"
   ]
  },
  {
   "cell_type": "code",
   "execution_count": 47,
   "id": "e910b50b-8d31-4f42-87be-ab9426c82fc7",
   "metadata": {},
   "outputs": [
    {
     "name": "stdin",
     "output_type": "stream",
     "text": [
      "Enter a sequence of comma-separated numbers:  '34', '67', '55', '33', '12', '98\n"
     ]
    },
    {
     "name": "stdout",
     "output_type": "stream",
     "text": [
      "[\"'34'\", \" '67'\", \" '55'\", \" '33'\", \" '12'\", \" '98\"]\n",
      "(\"'34'\", \" '67'\", \" '55'\", \" '33'\", \" '12'\", \" '98\")\n"
     ]
    }
   ],
   "source": [
    "\n",
    "input_numbers = input(\"Enter a sequence of comma-separated numbers: \")\n",
    "number_list = input_numbers.split(',')\n",
    "number_tuple = tuple(number_list)\n",
    "print(number_list)\n",
    "print(number_tuple)\n"
   ]
  },
  {
   "cell_type": "markdown",
   "id": "f0d4a5e1-2f9b-48c2-af23-69e538eb8035",
   "metadata": {},
   "source": [
    "34.\tWrite a program that computes the net amount of a bank account based a transaction log from console input. The transaction log format is shown as following:\r\n",
    "D 100\r\n",
    "W 200\r\n",
    "¡\r\n",
    "D means deposit while W means withdrawal.\r\n",
    "Suppose the following input is supplied to the program:\r\n",
    "D 300\r\n",
    "D 300\r\n",
    "W 200\r\n",
    "D 100\r\n",
    "Then, the output should be:\r\n",
    "500\r\n"
   ]
  },
  {
   "cell_type": "code",
   "execution_count": 49,
   "id": "05b63978-71ac-4617-bd99-e479fc5c752c",
   "metadata": {},
   "outputs": [
    {
     "name": "stdin",
     "output_type": "stream",
     "text": [
      "Enter the list of transaction :   D 500,D 300,W 100,D 200 \n"
     ]
    },
    {
     "name": "stdout",
     "output_type": "stream",
     "text": [
      "Total balance is : 900.0\n"
     ]
    }
   ],
   "source": [
    "user=input(\"Enter the list of transaction : \")\n",
    "s=user.split(',')\n",
    "\n",
    "balance=0\n",
    "for i in s:\n",
    "    if \"D\" in i :\n",
    "        i=i.replace(\"D\",\"\")\n",
    "        i=float(i)\n",
    "        balance=balance+i\n",
    "    elif \"W\" in i:  \n",
    "         i=i.replace(\"W\",\"\")\n",
    "         i=float(i) \n",
    "         balance=balance-i\n",
    "    else:\n",
    "        pass\n",
    "\n",
    "print(f\"Total balance is : {balance}\")"
   ]
  }
 ],
 "metadata": {
  "kernelspec": {
   "display_name": "Python 3 (ipykernel)",
   "language": "python",
   "name": "python3"
  },
  "language_info": {
   "codemirror_mode": {
    "name": "ipython",
    "version": 3
   },
   "file_extension": ".py",
   "mimetype": "text/x-python",
   "name": "python",
   "nbconvert_exporter": "python",
   "pygments_lexer": "ipython3",
   "version": "3.11.5"
  }
 },
 "nbformat": 4,
 "nbformat_minor": 5
}
